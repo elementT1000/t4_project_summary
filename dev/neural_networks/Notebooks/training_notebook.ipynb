{
 "cells": [
  {
   "cell_type": "markdown",
   "id": "484d6012",
   "metadata": {},
   "source": [
    "### Essential Step:\n",
    "Whenever you are starting up, or restart the kernel, you must run the following cell"
   ]
  },
  {
   "cell_type": "code",
   "execution_count": null,
   "id": "ac0e9137",
   "metadata": {},
   "outputs": [],
   "source": [
    "import deeplabcut as dlc\n",
    "import os\n",
    "from utilities import *\n",
    "\n",
    "#############################################################################\n",
    "'''Important: Make sure that you are selecting the correct config file for the config_path variable.\n",
    "This is done with the key variable. Options: ANTERIOR, POSTERIOR, SAGITTAL.'''\n",
    "#############################################################################\n",
    "key = 'SAGITTAL'\n",
    "value = get_value(key)\n",
    "\n",
    "if value is not None:\n",
    "    config_value, vid_tag = value\n",
    "else:\n",
    "    print(f'Key \"{key}\" not found in config_dict')\n",
    "\n",
    "config_path = home + r'\\dev\\neural_networks' + '\\\\' + config_value\n",
    "print(config_path)"
   ]
  },
  {
   "cell_type": "markdown",
   "id": "bde5c65d",
   "metadata": {},
   "source": [
    "### Using this Notebook: Analyzing Videos, Building Datasets, Training Networks\n",
    "The following cells allow you to run the entire process of incorporating new videos into a new\n",
    "neural network iteration. Run the cells *sequentially*. The function names should be self-explanatory.\n",
    "If you want to know more about a function, press 'b' to create a new cell, the type **dlc.function_name?** and run that cell."
   ]
  },
  {
   "cell_type": "code",
   "execution_count": null,
   "id": "f85c96be",
   "metadata": {},
   "outputs": [],
   "source": [
    "#Update this variable to the folder that contains the videos that you want to analyze\n",
    "target_dir = downloads + r'\\target_folder'\n",
    "\n",
    "vid_list = list_videos(target_dir, vid_tag)\n",
    "for path in vid_list:\n",
    "    print(path + \"\\n\")"
   ]
  },
  {
   "cell_type": "code",
   "execution_count": null,
   "id": "8fc3e8a7",
   "metadata": {
    "scrolled": true
   },
   "outputs": [],
   "source": [
    "dlc.analyze_videos(config_path, vid_list, videotype='.MP4')"
   ]
  },
  {
   "cell_type": "code",
   "execution_count": null,
   "id": "3051d675",
   "metadata": {},
   "outputs": [],
   "source": [
    "dlc.create_labeled_video(config_path, vid_list, draw_skeleton=True, displaycropped=True)"
   ]
  },
  {
   "cell_type": "code",
   "execution_count": null,
   "id": "7df39856",
   "metadata": {
    "scrolled": true
   },
   "outputs": [],
   "source": [
    "dlc.extract_outlier_frames(config_path, vid_list, automatic=True)"
   ]
  },
  {
   "cell_type": "code",
   "execution_count": null,
   "id": "1aff4381",
   "metadata": {},
   "outputs": [],
   "source": [
    "%gui wx\n",
    "dlc.refine_labels(config_path)"
   ]
  },
  {
   "cell_type": "code",
   "execution_count": null,
   "id": "520b8434",
   "metadata": {},
   "outputs": [],
   "source": [
    "dlc.check_labels(config_path)"
   ]
  },
  {
   "cell_type": "markdown",
   "id": "cf106c54",
   "metadata": {},
   "source": [
    "**IF you check_labels and there are errors, you should use the following function to adjust those.**\n",
    "Reason: \n",
    "-dlc.refine_labels() searches for machine_labels.h5\n",
    "-dlc.label_frames() searched for the human adjusted labels\n",
    "**IF no errors are present, skip the next cell.**"
   ]
  },
  {
   "cell_type": "code",
   "execution_count": null,
   "id": "37242429",
   "metadata": {},
   "outputs": [],
   "source": [
    "%gui wx\n",
    "deeplabcut.label_frames(path_config_file)"
   ]
  },
  {
   "cell_type": "code",
   "execution_count": null,
   "id": "a7c08305",
   "metadata": {},
   "outputs": [],
   "source": [
    "dlc.merge_datasets(config_path)"
   ]
  },
  {
   "cell_type": "code",
   "execution_count": null,
   "id": "c0df8c4e",
   "metadata": {},
   "outputs": [],
   "source": [
    "#the next two cells clean up the dataset used to train the network\n",
    "dlc.dropimagesduetolackofannotation(config_path)"
   ]
  },
  {
   "cell_type": "code",
   "execution_count": null,
   "id": "6e215670",
   "metadata": {},
   "outputs": [],
   "source": [
    "dlc.dropannotationfileentriesduetodeletedimages(config_path)"
   ]
  },
  {
   "cell_type": "code",
   "execution_count": null,
   "id": "1f9a8ff6",
   "metadata": {},
   "outputs": [],
   "source": [
    "#Pulls 95% of the labeled slides for training, 5% are reserved for testing\n",
    "dlc.create_training_dataset(config_path)"
   ]
  },
  {
   "cell_type": "code",
   "execution_count": null,
   "id": "a97d0e46",
   "metadata": {},
   "outputs": [],
   "source": [
    "dlc.train_network(config_path, shuffle=1, saveiters=50000, displayiters=10000)"
   ]
  },
  {
   "cell_type": "code",
   "execution_count": null,
   "id": "53d399c2",
   "metadata": {},
   "outputs": [],
   "source": [
    "dlc.evaluate_network(config_path, plotting=True)"
   ]
  }
 ],
 "metadata": {
  "kernelspec": {
   "display_name": "Python [conda env:DEEPLABCUT] *",
   "language": "python",
   "name": "conda-env-DEEPLABCUT-py"
  },
  "language_info": {
   "codemirror_mode": {
    "name": "ipython",
    "version": 3
   },
   "file_extension": ".py",
   "mimetype": "text/x-python",
   "name": "python",
   "nbconvert_exporter": "python",
   "pygments_lexer": "ipython3",
   "version": "3.8.13"
  },
  "varInspector": {
   "cols": {
    "lenName": 16,
    "lenType": 16,
    "lenVar": 40
   },
   "kernels_config": {
    "python": {
     "delete_cmd_postfix": "",
     "delete_cmd_prefix": "del ",
     "library": "var_list.py",
     "varRefreshCmd": "print(var_dic_list())"
    },
    "r": {
     "delete_cmd_postfix": ") ",
     "delete_cmd_prefix": "rm(",
     "library": "var_list.r",
     "varRefreshCmd": "cat(var_dic_list()) "
    }
   },
   "types_to_exclude": [
    "module",
    "function",
    "builtin_function_or_method",
    "instance",
    "_Feature"
   ],
   "window_display": false
  }
 },
 "nbformat": 4,
 "nbformat_minor": 5
}
